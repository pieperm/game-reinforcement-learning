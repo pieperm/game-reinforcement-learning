{
 "cells": [
  {
   "cell_type": "markdown",
   "source": [
    "Tutorial from https://www.learndatasci.com/tutorials/reinforcement-q-learning-scratch-python-openai-gym/"
   ],
   "metadata": {
    "collapsed": false
   }
  },
  {
   "cell_type": "code",
   "execution_count": null,
   "outputs": [],
   "source": [
    "import gym\n",
    "\n",
    "from IPython.display import clear_output\n",
    "from gym.envs.toy_text.taxi import TaxiEnv\n",
    "from time import sleep\n",
    "\n",
    "env: TaxiEnv = gym.make(\"Taxi-v3\").env\n",
    "\n",
    "# Test rendering the environment\n",
    "\n",
    "env.reset()\n",
    "env.render()\n",
    "\n",
    "print(f\"Action space: {env.action_space}\")\n",
    "print(f\"State space: {env.observation_space}\")\n",
    "\n",
    "# Set a specific state based on an encoding\n",
    "# (taxi row, taxi column, passenger index, destination index)"
   ],
   "metadata": {
    "collapsed": false,
    "pycharm": {
     "name": "#%%\n"
    }
   }
  },
  {
   "cell_type": "markdown",
   "source": [
    "#### Example of encoding a specific state:"
   ],
   "metadata": {
    "collapsed": false,
    "pycharm": {
     "name": "#%% md\n"
    }
   }
  },
  {
   "cell_type": "code",
   "execution_count": null,
   "outputs": [],
   "source": [
    "state: int = env.encode(3, 1, 2, 0)\n",
    "print(f\"State ID: {state}\")\n",
    "\n",
    "env.s = state\n",
    "env.render()"
   ],
   "metadata": {
    "collapsed": false,
    "pycharm": {
     "name": "#%%\n"
    }
   }
  },
  {
   "cell_type": "markdown",
   "source": [
    "#### Examine reward table P\n",
    "\n",
    "The reward table is essentially a matrix, but is implemented as a dictionary"
   ],
   "metadata": {
    "collapsed": false
   }
  },
  {
   "cell_type": "code",
   "execution_count": null,
   "outputs": [],
   "source": [
    "print(f\"Number of states: {len(env.P)}\")\n",
    "print(f\"Number of actions in state 0: {len(env.P[0])}\")\n",
    "\n",
    "print(f\"Actions for state {state}: {env.P[state]}\")"
   ],
   "metadata": {
    "collapsed": false,
    "pycharm": {
     "name": "#%%\n"
    }
   }
  },
  {
   "cell_type": "markdown",
   "source": [
    "#### Take a random action at each step:"
   ],
   "metadata": {
    "collapsed": false
   }
  },
  {
   "cell_type": "code",
   "execution_count": null,
   "outputs": [],
   "source": [
    "env.s = 328\n",
    "\n",
    "epochs: int = 0\n",
    "penalties: int = 0\n",
    "frames: list = []\n",
    "\n",
    "done = False\n",
    "\n",
    "while not done:\n",
    "    action: int = env.action_space.sample()\n",
    "    state, reward, done, info = env.step(action)\n",
    "\n",
    "    if reward == -10:\n",
    "        penalties += 1\n",
    "\n",
    "    frames.append({\n",
    "        \"frame\": env.render(mode=\"ansi\"),\n",
    "        \"state\": state,\n",
    "        \"action\": action,\n",
    "        \"reward\": reward\n",
    "    })\n",
    "\n",
    "    epochs += 1\n",
    "\n",
    "print(f\"Timestamps taken: {epochs}\")\n",
    "print(f\"Number of penalties: {penalties}\")"
   ],
   "metadata": {
    "collapsed": false,
    "pycharm": {
     "name": "#%%\n"
    }
   }
  },
  {
   "cell_type": "code",
   "execution_count": null,
   "outputs": [],
   "source": [
    "def print_frames(frames):\n",
    "    for i, frame in enumerate(frames):\n",
    "        clear_output(wait=True)\n",
    "        print(frame[\"frame\"])\n",
    "        print(f\"Timestep: {i + 1}\")\n",
    "        print(f\"State: {frame['state']}\")\n",
    "        print(f\"Action: {frame['action']}\")\n",
    "        print(f\"Reward: {frame['reward']}\")\n",
    "        sleep(0.1)\n",
    "\n",
    "print_frames(frames)"
   ],
   "metadata": {
    "collapsed": false,
    "pycharm": {
     "name": "#%%\n"
    }
   }
  }
 ],
 "metadata": {
  "kernelspec": {
   "display_name": "Python 3",
   "language": "python",
   "name": "python3"
  },
  "language_info": {
   "codemirror_mode": {
    "name": "ipython",
    "version": 2
   },
   "file_extension": ".py",
   "mimetype": "text/x-python",
   "name": "python",
   "nbconvert_exporter": "python",
   "pygments_lexer": "ipython2",
   "version": "2.7.6"
  }
 },
 "nbformat": 4,
 "nbformat_minor": 0
}